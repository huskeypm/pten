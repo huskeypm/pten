{
  "nbformat": 4,
  "nbformat_minor": 0,
  "metadata": {
    "colab": {
      "provenance": [],
      "include_colab_link": true
    },
    "kernelspec": {
      "name": "python3",
      "display_name": "Python 3"
    },
    "language_info": {
      "name": "python"
    }
  },
  "cells": [
    {
      "cell_type": "markdown",
      "metadata": {
        "id": "view-in-github",
        "colab_type": "text"
      },
      "source": [
        "<a href=\"https://colab.research.google.com/github/huskeypm/pten/blob/main/pten_demo.ipynb\" target=\"_parent\"><img src=\"https://colab.research.google.com/assets/colab-badge.svg\" alt=\"Open In Colab\"/></a>"
      ]
    },
    {
      "cell_type": "markdown",
      "source": [
        "This notebook serves as a tutorial a computational model of pten/pi3k signaling.\n",
        "The instructions outline\n",
        "- executing the computational model\n",
        "- analyzing its output\n",
        "- comparing the outputs to validation data\n",
        "- evaluating a hypothesis that was not part of the 'training' data"
      ],
      "metadata": {
        "id": "5A9YRjUuitkT"
      }
    },
    {
      "cell_type": "markdown",
      "source": [
        "***Code execution***:  \n",
        "To run these commands on your local computer\n",
        "* Create a copy of the simulation code\n",
        "```\n",
        "#git clone https://github.com/rsethi21/na_for_systems_bio/\n",
        "git clone https://github.com/huskeypm/pten\n",
        "```\n",
        "* Execute code\n",
        "```\n",
        "python testing_atp.py -s atp_data/substrates_lps.csv -r atp_data/rates.csv -i atp_data/interactions.csv -p output/fitted_params.json -o /tmp/lps/\n",
        "```"
      ],
      "metadata": {
        "id": "hDarXTBpkMSX"
      }
    },
    {
      "cell_type": "markdown",
      "source": [
        "To run within jupyter notebook\n",
        "* Check out a copy of the simulation code from a github repository\n",
        "* Follow code blocks below"
      ],
      "metadata": {
        "id": "o-Sxw1lqj2gC"
      }
    },
    {
      "cell_type": "code",
      "execution_count": 1,
      "metadata": {
        "colab": {
          "base_uri": "https://localhost:8080/"
        },
        "id": "G-hYpyYLh8Iw",
        "outputId": "15278f34-8546-4a86-8872-b0c4fa294d3c"
      },
      "outputs": [
        {
          "output_type": "stream",
          "name": "stdout",
          "text": [
            "Cloning into 'pten'...\n",
            "remote: Enumerating objects: 827, done.\u001b[K\n",
            "remote: Counting objects: 100% (255/255), done.\u001b[K\n",
            "remote: Compressing objects: 100% (193/193), done.\u001b[K\n",
            "remote: Total 827 (delta 129), reused 181 (delta 61), pack-reused 572\u001b[K\n",
            "Receiving objects: 100% (827/827), 33.84 MiB | 9.49 MiB/s, done.\n",
            "Resolving deltas: 100% (448/448), done.\n"
          ]
        }
      ],
      "source": [
        "!git clone https://github.com/huskeypm/pten"
      ]
    },
    {
      "cell_type": "markdown",
      "source": [
        "* The code is passed inputs that contain information about kinetics of the modeled pathways, substrate concentrations etc\n"
      ],
      "metadata": {
        "id": "svhAy_32kCjh"
      }
    },
    {
      "cell_type": "code",
      "source": [
        "%load_ext autoreload\n",
        "%autoreload 2"
      ],
      "metadata": {
        "id": "5V73f0rGxfLc"
      },
      "execution_count": 2,
      "outputs": []
    },
    {
      "cell_type": "code",
      "source": [
        "import sys\n",
        "#sys.path.append(\"./na_for_systems_bio\")\n",
        "sys.path.append(\"./pten\")\n",
        "#import pten.user_src.testing_atp as tap\n",
        "import pten.user_src.testing_pkh as tpkh"
      ],
      "metadata": {
        "id": "lan8jl7Mj-w5"
      },
      "execution_count": 3,
      "outputs": []
    },
    {
      "cell_type": "code",
      "source": [
        "\n"
      ],
      "metadata": {
        "id": "kZBxbyNmlf1s"
      },
      "execution_count": null,
      "outputs": []
    },
    {
      "cell_type": "code",
      "source": [],
      "metadata": {
        "id": "l0kzrEoyACLI"
      },
      "execution_count": null,
      "outputs": []
    },
    {
      "cell_type": "markdown",
      "source": [
        "* Run code below\n",
        "\n",
        "Note that the network is displayed below\n",
        "\n",
        "*Extracted this code from the\n",
        "testing_atp.py script. Merged into testing_pkh for the time being, but RS may want to put this elsewhere.*\n"
      ],
      "metadata": {
        "id": "qb9cJzDypveD"
      }
    },
    {
      "cell_type": "code",
      "source": [
        "fnames = tpkh.runSim(\n",
        "    amtsAtp = [1.0,1.0],\n",
        "    ranges = [[60,120]],\n",
        "    amtsLps = [0.0,1.0]    # need to be same length as amtsAtp\n",
        ")\n"
      ],
      "metadata": {
        "colab": {
          "base_uri": "https://localhost:8080/"
        },
        "id": "AFLqdb2t_ttO",
        "outputId": "035815aa-3887-48fe-80f1-f4c0c1907d90"
      },
      "execution_count": 4,
      "outputs": [
        {
          "output_type": "stream",
          "name": "stdout",
          "text": [
            "LPS = 0\n",
            "HDACi = 0\n",
            "LY294-002 = 0\n",
            "ATP = 0\n",
            "d[AKT]/dt = k3[pAKT] - r3[AKT][(PIP3^n2 + Km2^n2)/Km2^n2]\n",
            "d[pAKT]/dt = r3[AKT][(PIP3^n2 + Km2^n2)/Km2^n2] - k3[pAKT]\n",
            "d[PTEN]/dt = k4[pPTEN] - r4[PTEN][GSK3B] + s2[LPS][pPTEN]\n",
            "d[pPTEN]/dt = r4[PTEN][GSK3B] - k4[pPTEN] - s2[LPS][pPTEN]\n",
            "d[PIP2]/dt = k2[PIP3] - r2[PIP2][PI3K][Km1^n1/(PTEN^n1 + Km1^n1)]\n",
            "d[PIP3]/dt = r2[PIP2][PI3K][Km1^n1/(PTEN^n1 + Km1^n1)] - k2[PIP3]\n",
            "d[PI3K]/dt = k1[PI3Ks] - r1[PI3K] + s3[Gio][PI3Ks] - s4[PI3K][LY294-002]\n",
            "d[PI3Ks]/dt = r1[PI3K] - k1[PI3Ks] - s3[PI3Ks][Gio] + s4[LY294-002][PI3K]\n",
            "d[GSK3B]/dt = k5[pGSK3B] - r5[GSK3B][pAKT] + s1[HDACi]\n",
            "d[pGSK3B]/dt = r5[GSK3B][pAKT] - k5[pGSK3B]\n",
            "d[TNFa]/dt = k6[PTEN] - r6[TNFa][pAKT]\n",
            "d[Phagocytosis]/dt = k7[pAKT] - r7[Phagocytosis][PTEN]\n",
            "d[P2Y12act]/dt = k8[P2Y12s] - r8[P2Y12act] + s5[ATP][P2Y12s]\n",
            "d[P2Y12s]/dt = r8[P2Y12act] - k8[P2Y12s] - s5[ATP][P2Y12s]\n",
            "d[Gio]/dt = k9[P2Y12act] - r9[Gio][Gio]\n",
            "\n"
          ]
        },
        {
          "output_type": "stream",
          "name": "stderr",
          "text": [
            "\r  0%|          | 0/2 [00:00<?, ?it/s]"
          ]
        },
        {
          "output_type": "stream",
          "name": "stdout",
          "text": [
            "0.0\n"
          ]
        },
        {
          "output_type": "stream",
          "name": "stderr",
          "text": [
            "\r 50%|█████     | 1/2 [00:01<00:01,  1.35s/it]"
          ]
        },
        {
          "output_type": "stream",
          "name": "stdout",
          "text": [
            "1.0\n"
          ]
        },
        {
          "output_type": "stream",
          "name": "stderr",
          "text": [
            "100%|██████████| 2/2 [00:02<00:00,  1.08s/it]\n"
          ]
        }
      ]
    },
    {
      "cell_type": "markdown",
      "source": [
        "* Load data and plot\n",
        "we should have csv files for different run cases that are listed in fnames. If running simulator code within notebook, fnames is already population. If not, put the filenames in below"
      ],
      "metadata": {
        "id": "2J7UJL47r-bF"
      }
    },
    {
      "cell_type": "code",
      "source": [
        "#fnames=['atp_1.0_[60, 120]_lps_0.0.csv', 'atp_1.0_[60, 120]_lps_1.0.csv']"
      ],
      "metadata": {
        "id": "j3xu3tDFrrQk"
      },
      "execution_count": null,
      "outputs": []
    },
    {
      "cell_type": "code",
      "source": [
        "import pandas as pd\n",
        "class empty:pass\n",
        "conds = dict()\n",
        "\n",
        "cond = empty()\n",
        "fname = fnames[0]  # reading fname associated with only using atp\n",
        "cond.df = pd.read_csv(fname)\n",
        "conds['atp']=cond\n",
        "\n",
        "cond = empty()\n",
        "fname = fnames[1]  # reading fname associated with atp+lps\n",
        "cond.df = pd.read_csv(fname)\n",
        "conds['lps+atp']=cond\n",
        "\n"
      ],
      "metadata": {
        "id": "mkE4ktXJisEa"
      },
      "execution_count": 6,
      "outputs": []
    },
    {
      "cell_type": "markdown",
      "source": [
        "Here we plot the pAkt as a function of time"
      ],
      "metadata": {
        "id": "ay3lRpQMwdHL"
      }
    },
    {
      "cell_type": "code",
      "source": [],
      "metadata": {
        "id": "o4M7MyRFtxUp"
      },
      "execution_count": 6,
      "outputs": []
    },
    {
      "cell_type": "code",
      "source": [
        "cond = conds['atp']\n",
        "df = cond.df\n",
        "#plt.plot( df['LPS'] )\n",
        "tpkh.Plotter(df,'ATP')\n",
        "\n",
        "\n",
        "cond = conds['lps+atp']\n",
        "df = cond.df\n",
        "#plt.plot( df['LPS'] )\n",
        "tpkh.Plotter(df,'LPS',tag='+LPS',linestyle='r--',substratePos=.02)\n",
        "\n"
      ],
      "metadata": {
        "colab": {
          "base_uri": "https://localhost:8080/",
          "height": 449
        },
        "id": "bkOTuNWbjjd2",
        "outputId": "cb959d7c-66ba-4440-f9e9-03cc4fb2ea65"
      },
      "execution_count": null,
      "outputs": [
        {
          "output_type": "display_data",
          "data": {
            "text/plain": [
              "<Figure size 640x480 with 1 Axes>"
            ],
            "image/png": "[encoded data removed]"
          },
          "metadata": {}
        }
      ]
    },
    {
      "cell_type": "markdown",
      "source": [],
      "metadata": {
        "id": "L1Le5zSYZtpy"
      }
    },
    {
      "cell_type": "markdown",
      "source": [
        "Using hypothetical data here.\n",
        "In general, these should be populated with actual data from the Wang paper and EMily's experiments"
      ],
      "metadata": {
        "id": "7bP07mtKu8e2"
      }
    },
    {
      "cell_type": "code",
      "source": [
        "import numpy as np\n",
        "import matplotlib.pylab as plt"
      ],
      "metadata": {
        "id": "65bLhoo2ZuWl"
      },
      "execution_count": 10,
      "outputs": []
    },
    {
      "cell_type": "code",
      "source": [
        "# Emily data (WB)\n",
        "wATP = [[0.0,60],  # intensity of 0.6 after 60 min. 60-120 is used here since we start ATP at 60 for the numerical model\n",
        "        [0.2,65],\n",
        "        [0.2,70],\n",
        "        [0.5,90],\n",
        "        [1.0,120]]\n",
        "wATP = np.asarray(wATP)\n",
        "\n",
        "# this is HYPOTHETICAL,\n",
        "wangATP = [[0.0,60],  # intensity of 0.6 after 60 min. 60-120 is used here since we start ATP at 60 for the numerical model\n",
        "           [1.0,120]]\n",
        "wangATP = np.asarray(wangATP)\n",
        "\n"
      ],
      "metadata": {
        "id": "yH4ubxadvliU"
      },
      "execution_count": 11,
      "outputs": []
    },
    {
      "cell_type": "markdown",
      "source": [
        "Plot predicted data versus actual data measured by Emily and Wang. *Note that the predictions increase steady-state much faster than was observed by Emily*"
      ],
      "metadata": {
        "id": "NHHR1RSkw968"
      }
    },
    {
      "cell_type": "code",
      "source": [
        "cond = conds['atp']\n",
        "df = cond.df\n",
        "pAkt = np.asarray( df['pAKT'] )\n",
        "npAkt = pAkt - np.min(pAkt)\n",
        "npAkt /= np.max(npAkt)\n",
        "\n",
        "\n",
        "ts = np.arange( np.shape(pAkt) [0])\n",
        "\n",
        "plt.plot(ts,npAkt,label='model')\n",
        "plt.scatter(wATP[:,1],wATP[:,0],facecolor='white',edgecolor='black',label='Emily')\n",
        "plt.plot(wATP[:,1],wATP[:,0],'k-')\n",
        "plt.scatter(wangATP[:,1],wangATP[:,0],facecolor='blue',label='Wang')\n",
        "plt.xlim([50,150])\n",
        "plt.ylabel('pAkt [AU]')\n",
        "plt.xlabel('time [min]')\n",
        "plt.legend(loc=0)"
      ],
      "metadata": {
        "colab": {
          "base_uri": "https://localhost:8080/",
          "height": 467
        },
        "id": "SmjYpSqu03n6",
        "outputId": "79de80e0-d06b-468f-c93a-5f14369a0cb1"
      },
      "execution_count": 12,
      "outputs": [
        {
          "output_type": "execute_result",
          "data": {
            "text/plain": [
              "<matplotlib.legend.Legend at 0x7c6bb6f41720>"
            ]
          },
          "metadata": {},
          "execution_count": 12
        },
        {
          "output_type": "display_data",
          "data": {
            "text/plain": [
              "<Figure size 640x480 with 1 Axes>"
            ],
            "image/png": "[encoded data removed]"
          },
          "metadata": {}
        }
      ]
    },
    {
      "cell_type": "markdown",
      "source": [
        "1. P2Y12 expression decreases with LPS treatment [17115040]\n",
        "(coincidentally, it is upregulated in M2 states [doi.org/10.1212/NXI.0000000000000080]). How might the Akt phosphorylation status change following prolonged LPS treatment (assuming normal expression of all other proteins in the model, so in principle this could be modeled by applying a P2Y12 antagonist)?\n",
        "\n",
        "2. GSK3B activity is suppressed following phoshorylation (Ser) by Akt, as well as PKA [10.1038/s41598-017-09239-5]. PKA can be activated by isoproternol [/10.1016/0197-0186(95)00139-5] or other beta adrenergic receptor agonists. How might acute isoproternol treatment impact phagocytosis?\n"
      ],
      "metadata": {
        "id": "hJjxfrSGv6ja"
      }
    },
    {
      "cell_type": "markdown",
      "source": [
        "For 1, first review the equations that govern P2Y12 dependent activation. We see that\n",
        "```\n",
        "d[P2Y12act]/dt = k8[P2Y12s]....\n",
        "```\n",
        "reflects the rate of P2Y12 activation as a function of the inactive(?) P2Y12s concentration. We can reduce the amount of P2Y12act by either decreasing P2Y12s or k8. k8 is a tad easier. We could also increase the r8 term to the same effect"
      ],
      "metadata": {
        "id": "XNWnbXJ2wCMd"
      }
    },
    {
      "cell_type": "code",
      "source": [],
      "metadata": {
        "id": "yE5X5CaRv6D3"
      },
      "execution_count": null,
      "outputs": []
    },
    {
      "cell_type": "code",
      "source": [
        "# get current data\n",
        "path=\"pten/input/input_atp_data/\"\n",
        "rates = tpkh.parse_rates(path+\"/rates.csv\")\n",
        "#paramName = 'k8' # contains ATP dependent term\n",
        "\n",
        "paramName = 's5' # contains ATP dependent term\n",
        "#paramName = 'k1' #  <-- ran this to make sure that we could block PI3K activation\n",
        "\n",
        "paramIdx = -1\n",
        "for i,rate in enumerate(rates):\n",
        "  if rate.identifier == paramName:\n",
        "    print(\"%s %f\"%(\n",
        "      rate.identifier,\n",
        "      rate.value))\n",
        "    paramIdx = i\n",
        "\n",
        "# condition\n",
        "amtsAtp=[1.]\n",
        "amtsLps=[0.]\n",
        "\n",
        "# run the simulations\n",
        "rescaledValue = 0.0 * rates[paramIdx].value\n",
        "newParams={ paramName: rescaledValue,\n",
        "            'k8': 0. #, 'r8':0.\n",
        "           }\n",
        "\n",
        "\n",
        "ctl = tpkh.runSim(tag = 'ctl',amtsAtp=amtsAtp,amtsLps=amtsLps) # will use default parameters\n",
        "decrP2Y12  = tpkh.runSim(tag='cond',params=newParams,amtsAtp=amtsAtp,amtsLps=amtsLps)"
      ],
      "metadata": {
        "id": "R6IN6mnq1IzR",
        "colab": {
          "base_uri": "https://localhost:8080/"
        },
        "outputId": "85cc83a5-6d6a-4754-c498-aa60ff81ab41"
      },
      "execution_count": 72,
      "outputs": [
        {
          "output_type": "stream",
          "name": "stdout",
          "text": [
            "s5 16.800000\n",
            "LPS = 0\n",
            "HDACi = 0\n",
            "LY294-002 = 0\n",
            "ATP = 0\n",
            "d[AKT]/dt = k3[pAKT] - r3[AKT][(PIP3^n2 + Km2^n2)/Km2^n2]\n",
            "d[pAKT]/dt = r3[AKT][(PIP3^n2 + Km2^n2)/Km2^n2] - k3[pAKT]\n",
            "d[PTEN]/dt = k4[pPTEN] - r4[PTEN][GSK3B] + s2[LPS][pPTEN]\n",
            "d[pPTEN]/dt = r4[PTEN][GSK3B] - k4[pPTEN] - s2[LPS][pPTEN]\n",
            "d[PIP2]/dt = k2[PIP3] - r2[PIP2][PI3K][Km1^n1/(PTEN^n1 + Km1^n1)]\n",
            "d[PIP3]/dt = r2[PIP2][PI3K][Km1^n1/(PTEN^n1 + Km1^n1)] - k2[PIP3]\n",
            "d[PI3K]/dt = k1[PI3Ks] - r1[PI3K] + s3[Gio][PI3Ks] - s4[PI3K][LY294-002]\n",
            "d[PI3Ks]/dt = r1[PI3K] - k1[PI3Ks] - s3[PI3Ks][Gio] + s4[LY294-002][PI3K]\n",
            "d[GSK3B]/dt = k5[pGSK3B] - r5[GSK3B][pAKT] + s1[HDACi]\n",
            "d[pGSK3B]/dt = r5[GSK3B][pAKT] - k5[pGSK3B]\n",
            "d[TNFa]/dt = k6[PTEN] - r6[TNFa][pAKT]\n",
            "d[Phagocytosis]/dt = k7[pAKT] - r7[Phagocytosis][PTEN]\n",
            "d[P2Y12act]/dt = k8[P2Y12s] - r8[P2Y12act] + s5[ATP][P2Y12s]\n",
            "d[P2Y12s]/dt = r8[P2Y12act] - k8[P2Y12s] - s5[ATP][P2Y12s]\n",
            "d[Gio]/dt = k9[P2Y12act] - r9[Gio][Gio]\n",
            "\n"
          ]
        },
        {
          "output_type": "stream",
          "name": "stderr",
          "text": [
            "\r  0%|          | 0/1 [00:00<?, ?it/s]"
          ]
        },
        {
          "output_type": "stream",
          "name": "stdout",
          "text": [
            "0.0\n"
          ]
        },
        {
          "output_type": "stream",
          "name": "stderr",
          "text": [
            "100%|██████████| 1/1 [00:03<00:00,  3.08s/it]\n"
          ]
        },
        {
          "output_type": "stream",
          "name": "stdout",
          "text": [
            "LPS = 0\n",
            "HDACi = 0\n",
            "LY294-002 = 0\n",
            "ATP = 0\n",
            "d[AKT]/dt = k3[pAKT] - r3[AKT][(PIP3^n2 + Km2^n2)/Km2^n2]\n",
            "d[pAKT]/dt = r3[AKT][(PIP3^n2 + Km2^n2)/Km2^n2] - k3[pAKT]\n",
            "d[PTEN]/dt = k4[pPTEN] - r4[PTEN][GSK3B] + s2[LPS][pPTEN]\n",
            "d[pPTEN]/dt = r4[PTEN][GSK3B] - k4[pPTEN] - s2[LPS][pPTEN]\n",
            "d[PIP2]/dt = k2[PIP3] - r2[PIP2][PI3K][Km1^n1/(PTEN^n1 + Km1^n1)]\n",
            "d[PIP3]/dt = r2[PIP2][PI3K][Km1^n1/(PTEN^n1 + Km1^n1)] - k2[PIP3]\n",
            "d[PI3K]/dt = k1[PI3Ks] - r1[PI3K] + s3[Gio][PI3Ks] - s4[PI3K][LY294-002]\n",
            "d[PI3Ks]/dt = r1[PI3K] - k1[PI3Ks] - s3[PI3Ks][Gio] + s4[LY294-002][PI3K]\n",
            "d[GSK3B]/dt = k5[pGSK3B] - r5[GSK3B][pAKT] + s1[HDACi]\n",
            "d[pGSK3B]/dt = r5[GSK3B][pAKT] - k5[pGSK3B]\n",
            "d[TNFa]/dt = k6[PTEN] - r6[TNFa][pAKT]\n",
            "d[Phagocytosis]/dt = k7[pAKT] - r7[Phagocytosis][PTEN]\n",
            "d[P2Y12act]/dt = k8[P2Y12s] - r8[P2Y12act] + s5[ATP][P2Y12s]\n",
            "d[P2Y12s]/dt = r8[P2Y12act] - k8[P2Y12s] - s5[ATP][P2Y12s]\n",
            "d[Gio]/dt = k9[P2Y12act] - r9[Gio][Gio]\n",
            "\n",
            "Applying parameters dict_keys(['s5', 'k8'])\n"
          ]
        },
        {
          "output_type": "stream",
          "name": "stderr",
          "text": [
            "\r  0%|          | 0/1 [00:00<?, ?it/s]"
          ]
        },
        {
          "output_type": "stream",
          "name": "stdout",
          "text": [
            "0.0\n"
          ]
        },
        {
          "output_type": "stream",
          "name": "stderr",
          "text": [
            "100%|██████████| 1/1 [00:01<00:00,  1.31s/it]\n"
          ]
        }
      ]
    },
    {
      "cell_type": "markdown",
      "source": [
        "Now that these have been simulated with two different parameter sets, we will plot the states (pAkt) of interest from the returned dataFrame objects"
      ],
      "metadata": {
        "id": "t82qlQ1Vxrbz"
      }
    },
    {
      "cell_type": "code",
      "source": [
        "# load reuslts\n",
        "#print(ctl,decrP2Y12)\n",
        "dfCtl = pd.read_csv(ctl[0])\n",
        "dfP2Y12 = pd.read_csv(decrP2Y12[0])"
      ],
      "metadata": {
        "id": "x4eHpHaJrW8q"
      },
      "execution_count": 73,
      "outputs": []
    },
    {
      "cell_type": "code",
      "source": [
        "# P2Y12act\n",
        "plt.plot(dfCtl['pAKT'],label='ctrl')\n",
        "plt.plot(dfP2Y12['pAKT'],label='decr. P2Y12')\n",
        "plt.legend(loc=0)"
      ],
      "metadata": {
        "id": "4P6G4fjIyB8_",
        "colab": {
          "base_uri": "https://localhost:8080/",
          "height": 448
        },
        "outputId": "cafa2285-f030-4a4f-ff13-94abecf8e9cf"
      },
      "execution_count": 74,
      "outputs": [
        {
          "output_type": "execute_result",
          "data": {
            "text/plain": [
              "<matplotlib.legend.Legend at 0x7c6bafcb9c30>"
            ]
          },
          "metadata": {},
          "execution_count": 74
        },
        {
          "output_type": "display_data",
          "data": {
            "text/plain": [
              "<Figure size 640x480 with 1 Axes>"
            ],
            "image/png": "[encoded data removed]"
          },
          "metadata": {}
        }
      ]
    },
    {
      "cell_type": "code",
      "source": [],
      "metadata": {
        "id": "RAO6ttKCtmor"
      },
      "execution_count": 45,
      "outputs": []
    }
  ]
}